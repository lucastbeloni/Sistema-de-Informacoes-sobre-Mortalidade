{
  "nbformat": 4,
  "nbformat_minor": 0,
  "metadata": {
    "colab": {
      "name": "SIM.ipynb",
      "provenance": [],
      "collapsed_sections": [],
      "authorship_tag": "ABX9TyMZ5mONM9hlKjJlGQdDhqvc",
      "include_colab_link": true
    },
    "kernelspec": {
      "name": "python3",
      "display_name": "Python 3"
    },
    "language_info": {
      "name": "python"
    }
  },
  "cells": [
    {
      "cell_type": "markdown",
      "metadata": {
        "id": "view-in-github",
        "colab_type": "text"
      },
      "source": [
        "<a href=\"https://colab.research.google.com/github/lucastbeloni/Sistema-de-Informacoes-sobre-Mortalidade/blob/main/SIM.ipynb\" target=\"_parent\"><img src=\"https://colab.research.google.com/assets/colab-badge.svg\" alt=\"Open In Colab\"/></a>"
      ]
    },
    {
      "cell_type": "code",
      "execution_count": 24,
      "metadata": {
        "id": "3ZDcIPB4sbQK"
      },
      "outputs": [],
      "source": [
        "import  pandas as pd\n",
        "import warnings\n",
        "warnings.filterwarnings('ignore')\n",
        "import missingno as msn\n",
        "import seaborn as sns\n",
        "import numpy as np\n",
        "import matplotlib.pyplot as plt\n",
        "\n",
        "import geopandas as gpd\n",
        "import basedosdados as bd"
      ]
    },
    {
      "cell_type": "code",
      "source": [
        "df = pd.read_csv('municipio_causa_idade_sexo_raca.csv')"
      ],
      "metadata": {
        "id": "a33zRmV7uJYh"
      },
      "execution_count": 3,
      "outputs": []
    },
    {
      "cell_type": "code",
      "source": [
        "df.head()"
      ],
      "metadata": {
        "colab": {
          "base_uri": "https://localhost:8080/",
          "height": 206
        },
        "id": "2xYzbFWN1VPf",
        "outputId": "fa8e35b9-f039-4512-d46b-707eceed02fd"
      },
      "execution_count": 4,
      "outputs": [
        {
          "output_type": "execute_result",
          "data": {
            "text/plain": [
              "    ano sigla_uf  id_municipio causa_basica  idade  sexo  raca_cor  \\\n",
              "0  1996       AC       1200000          R99    NaN   1.0       NaN   \n",
              "1  1996       AC       1200000         V892   25.0   1.0       NaN   \n",
              "2  1996       AC       1200000         X959    NaN   1.0       3.0   \n",
              "3  1996       AC       1200000         X959    NaN   1.0       NaN   \n",
              "4  1996       AC       1200013         A419   71.0   2.0       NaN   \n",
              "\n",
              "   numero_obitos  \n",
              "0            1.0  \n",
              "1            1.0  \n",
              "2            1.0  \n",
              "3            1.0  \n",
              "4            1.0  "
            ],
            "text/html": [
              "\n",
              "  <div id=\"df-beace8e8-bf72-43a2-b44c-5a780805006b\">\n",
              "    <div class=\"colab-df-container\">\n",
              "      <div>\n",
              "<style scoped>\n",
              "    .dataframe tbody tr th:only-of-type {\n",
              "        vertical-align: middle;\n",
              "    }\n",
              "\n",
              "    .dataframe tbody tr th {\n",
              "        vertical-align: top;\n",
              "    }\n",
              "\n",
              "    .dataframe thead th {\n",
              "        text-align: right;\n",
              "    }\n",
              "</style>\n",
              "<table border=\"1\" class=\"dataframe\">\n",
              "  <thead>\n",
              "    <tr style=\"text-align: right;\">\n",
              "      <th></th>\n",
              "      <th>ano</th>\n",
              "      <th>sigla_uf</th>\n",
              "      <th>id_municipio</th>\n",
              "      <th>causa_basica</th>\n",
              "      <th>idade</th>\n",
              "      <th>sexo</th>\n",
              "      <th>raca_cor</th>\n",
              "      <th>numero_obitos</th>\n",
              "    </tr>\n",
              "  </thead>\n",
              "  <tbody>\n",
              "    <tr>\n",
              "      <th>0</th>\n",
              "      <td>1996</td>\n",
              "      <td>AC</td>\n",
              "      <td>1200000</td>\n",
              "      <td>R99</td>\n",
              "      <td>NaN</td>\n",
              "      <td>1.0</td>\n",
              "      <td>NaN</td>\n",
              "      <td>1.0</td>\n",
              "    </tr>\n",
              "    <tr>\n",
              "      <th>1</th>\n",
              "      <td>1996</td>\n",
              "      <td>AC</td>\n",
              "      <td>1200000</td>\n",
              "      <td>V892</td>\n",
              "      <td>25.0</td>\n",
              "      <td>1.0</td>\n",
              "      <td>NaN</td>\n",
              "      <td>1.0</td>\n",
              "    </tr>\n",
              "    <tr>\n",
              "      <th>2</th>\n",
              "      <td>1996</td>\n",
              "      <td>AC</td>\n",
              "      <td>1200000</td>\n",
              "      <td>X959</td>\n",
              "      <td>NaN</td>\n",
              "      <td>1.0</td>\n",
              "      <td>3.0</td>\n",
              "      <td>1.0</td>\n",
              "    </tr>\n",
              "    <tr>\n",
              "      <th>3</th>\n",
              "      <td>1996</td>\n",
              "      <td>AC</td>\n",
              "      <td>1200000</td>\n",
              "      <td>X959</td>\n",
              "      <td>NaN</td>\n",
              "      <td>1.0</td>\n",
              "      <td>NaN</td>\n",
              "      <td>1.0</td>\n",
              "    </tr>\n",
              "    <tr>\n",
              "      <th>4</th>\n",
              "      <td>1996</td>\n",
              "      <td>AC</td>\n",
              "      <td>1200013</td>\n",
              "      <td>A419</td>\n",
              "      <td>71.0</td>\n",
              "      <td>2.0</td>\n",
              "      <td>NaN</td>\n",
              "      <td>1.0</td>\n",
              "    </tr>\n",
              "  </tbody>\n",
              "</table>\n",
              "</div>\n",
              "      <button class=\"colab-df-convert\" onclick=\"convertToInteractive('df-beace8e8-bf72-43a2-b44c-5a780805006b')\"\n",
              "              title=\"Convert this dataframe to an interactive table.\"\n",
              "              style=\"display:none;\">\n",
              "        \n",
              "  <svg xmlns=\"http://www.w3.org/2000/svg\" height=\"24px\"viewBox=\"0 0 24 24\"\n",
              "       width=\"24px\">\n",
              "    <path d=\"M0 0h24v24H0V0z\" fill=\"none\"/>\n",
              "    <path d=\"M18.56 5.44l.94 2.06.94-2.06 2.06-.94-2.06-.94-.94-2.06-.94 2.06-2.06.94zm-11 1L8.5 8.5l.94-2.06 2.06-.94-2.06-.94L8.5 2.5l-.94 2.06-2.06.94zm10 10l.94 2.06.94-2.06 2.06-.94-2.06-.94-.94-2.06-.94 2.06-2.06.94z\"/><path d=\"M17.41 7.96l-1.37-1.37c-.4-.4-.92-.59-1.43-.59-.52 0-1.04.2-1.43.59L10.3 9.45l-7.72 7.72c-.78.78-.78 2.05 0 2.83L4 21.41c.39.39.9.59 1.41.59.51 0 1.02-.2 1.41-.59l7.78-7.78 2.81-2.81c.8-.78.8-2.07 0-2.86zM5.41 20L4 18.59l7.72-7.72 1.47 1.35L5.41 20z\"/>\n",
              "  </svg>\n",
              "      </button>\n",
              "      \n",
              "  <style>\n",
              "    .colab-df-container {\n",
              "      display:flex;\n",
              "      flex-wrap:wrap;\n",
              "      gap: 12px;\n",
              "    }\n",
              "\n",
              "    .colab-df-convert {\n",
              "      background-color: #E8F0FE;\n",
              "      border: none;\n",
              "      border-radius: 50%;\n",
              "      cursor: pointer;\n",
              "      display: none;\n",
              "      fill: #1967D2;\n",
              "      height: 32px;\n",
              "      padding: 0 0 0 0;\n",
              "      width: 32px;\n",
              "    }\n",
              "\n",
              "    .colab-df-convert:hover {\n",
              "      background-color: #E2EBFA;\n",
              "      box-shadow: 0px 1px 2px rgba(60, 64, 67, 0.3), 0px 1px 3px 1px rgba(60, 64, 67, 0.15);\n",
              "      fill: #174EA6;\n",
              "    }\n",
              "\n",
              "    [theme=dark] .colab-df-convert {\n",
              "      background-color: #3B4455;\n",
              "      fill: #D2E3FC;\n",
              "    }\n",
              "\n",
              "    [theme=dark] .colab-df-convert:hover {\n",
              "      background-color: #434B5C;\n",
              "      box-shadow: 0px 1px 3px 1px rgba(0, 0, 0, 0.15);\n",
              "      filter: drop-shadow(0px 1px 2px rgba(0, 0, 0, 0.3));\n",
              "      fill: #FFFFFF;\n",
              "    }\n",
              "  </style>\n",
              "\n",
              "      <script>\n",
              "        const buttonEl =\n",
              "          document.querySelector('#df-beace8e8-bf72-43a2-b44c-5a780805006b button.colab-df-convert');\n",
              "        buttonEl.style.display =\n",
              "          google.colab.kernel.accessAllowed ? 'block' : 'none';\n",
              "\n",
              "        async function convertToInteractive(key) {\n",
              "          const element = document.querySelector('#df-beace8e8-bf72-43a2-b44c-5a780805006b');\n",
              "          const dataTable =\n",
              "            await google.colab.kernel.invokeFunction('convertToInteractive',\n",
              "                                                     [key], {});\n",
              "          if (!dataTable) return;\n",
              "\n",
              "          const docLinkHtml = 'Like what you see? Visit the ' +\n",
              "            '<a target=\"_blank\" href=https://colab.research.google.com/notebooks/data_table.ipynb>data table notebook</a>'\n",
              "            + ' to learn more about interactive tables.';\n",
              "          element.innerHTML = '';\n",
              "          dataTable['output_type'] = 'display_data';\n",
              "          await google.colab.output.renderOutput(dataTable, element);\n",
              "          const docLink = document.createElement('div');\n",
              "          docLink.innerHTML = docLinkHtml;\n",
              "          element.appendChild(docLink);\n",
              "        }\n",
              "      </script>\n",
              "    </div>\n",
              "  </div>\n",
              "  "
            ]
          },
          "metadata": {},
          "execution_count": 4
        }
      ]
    },
    {
      "cell_type": "code",
      "source": [
        "df = df[df.duplicated('causa_basica', keep=False)] # seleciona nomes que aparecem mais de uma vez\n",
        "\n",
        "total_by_state = df.groupby('sigla_uf').numero_obitos.sum() # agrupa o total por estado\n",
        "df = df.merge(total_by_state, on='sigla_uf', suffixes=('', '_total_by_state')) # une os dados com total por estado\n",
        "\n",
        "df['freq_per_100k'] = 100_000 * df.numero_obitos / df.numero_obitos_total_by_state # cria o total por estado por 100k pessoas"
      ],
      "metadata": {
        "id": "b39zSeFkSDEh"
      },
      "execution_count": 5,
      "outputs": []
    },
    {
      "cell_type": "code",
      "source": [
        "df.info()"
      ],
      "metadata": {
        "colab": {
          "base_uri": "https://localhost:8080/"
        },
        "id": "apqzhF4d19qi",
        "outputId": "8d20f797-4542-451e-9c39-921f0e6e20bb"
      },
      "execution_count": 6,
      "outputs": [
        {
          "output_type": "stream",
          "name": "stdout",
          "text": [
            "<class 'pandas.core.frame.DataFrame'>\n",
            "Int64Index: 9895481 entries, 0 to 9895480\n",
            "Data columns (total 10 columns):\n",
            " #   Column                        Dtype  \n",
            "---  ------                        -----  \n",
            " 0   ano                           int64  \n",
            " 1   sigla_uf                      object \n",
            " 2   id_municipio                  int64  \n",
            " 3   causa_basica                  object \n",
            " 4   idade                         float64\n",
            " 5   sexo                          float64\n",
            " 6   raca_cor                      float64\n",
            " 7   numero_obitos                 float64\n",
            " 8   numero_obitos_total_by_state  float64\n",
            " 9   freq_per_100k                 float64\n",
            "dtypes: float64(6), int64(2), object(2)\n",
            "memory usage: 830.5+ MB\n"
          ]
        }
      ]
    },
    {
      "cell_type": "code",
      "source": [
        "msn.matrix(df)\n",
        "plt.show()"
      ],
      "metadata": {
        "id": "u012E73R1lBR",
        "colab": {
          "base_uri": "https://localhost:8080/",
          "height": 762
        },
        "outputId": "cba83398-a521-44d3-af89-9b78aed90655"
      },
      "execution_count": 7,
      "outputs": [
        {
          "output_type": "display_data",
          "data": {
            "text/plain": [
              "<Figure size 1800x720 with 2 Axes>"
            ],
            "image/png": "[encoded data removed]"
          },
          "metadata": {
            "needs_background": "light"
          }
        }
      ]
    },
    {
      "cell_type": "code",
      "source": [
        "df.isnull().sum()\n"
      ],
      "metadata": {
        "colab": {
          "base_uri": "https://localhost:8080/"
        },
        "id": "AGmaZFdq1vlU",
        "outputId": "fd161501-bcb5-4281-e6aa-2ba9ef4740f5"
      },
      "execution_count": 8,
      "outputs": [
        {
          "output_type": "execute_result",
          "data": {
            "text/plain": [
              "ano                                   0\n",
              "sigla_uf                              0\n",
              "id_municipio                          0\n",
              "causa_basica                          0\n",
              "idade                             60955\n",
              "sexo                               1443\n",
              "raca_cor                        2369809\n",
              "numero_obitos                         0\n",
              "numero_obitos_total_by_state          0\n",
              "freq_per_100k                         0\n",
              "dtype: int64"
            ]
          },
          "metadata": {},
          "execution_count": 8
        }
      ]
    },
    {
      "cell_type": "code",
      "source": [
        "#msn.bar(df)\n",
        "\n",
        "#plt.show()"
      ],
      "metadata": {
        "id": "yEe3NIOG3hwu"
      },
      "execution_count": 9,
      "outputs": []
    },
    {
      "cell_type": "code",
      "source": [
        "df.isnull().sum()/df.shape[0]"
      ],
      "metadata": {
        "colab": {
          "base_uri": "https://localhost:8080/"
        },
        "id": "ClinKPyh3mMz",
        "outputId": "ef3f9b0f-b9ec-41ee-dc4d-45991fe43351"
      },
      "execution_count": 10,
      "outputs": [
        {
          "output_type": "execute_result",
          "data": {
            "text/plain": [
              "ano                             0.000000\n",
              "sigla_uf                        0.000000\n",
              "id_municipio                    0.000000\n",
              "causa_basica                    0.000000\n",
              "idade                           0.006160\n",
              "sexo                            0.000146\n",
              "raca_cor                        0.239484\n",
              "numero_obitos                   0.000000\n",
              "numero_obitos_total_by_state    0.000000\n",
              "freq_per_100k                   0.000000\n",
              "dtype: float64"
            ]
          },
          "metadata": {},
          "execution_count": 10
        }
      ]
    },
    {
      "cell_type": "code",
      "source": [
        "df['sigla_uf'].value_counts()\n"
      ],
      "metadata": {
        "colab": {
          "base_uri": "https://localhost:8080/"
        },
        "id": "2XEUUh3D1XDk",
        "outputId": "5009719a-1769-40cc-de20-3811babf6c85"
      },
      "execution_count": 11,
      "outputs": [
        {
          "output_type": "execute_result",
          "data": {
            "text/plain": [
              "SP    2207885\n",
              "MG    1136565\n",
              "RJ    1012698\n",
              "RS     752171\n",
              "BA     644684\n",
              "PR     622185\n",
              "PE     534942\n",
              "CE     373885\n",
              "SC     330943\n",
              "GO     280872\n",
              "PA     238842\n",
              "MA     207881\n",
              "ES     200523\n",
              "PB     199111\n",
              "AL     156444\n",
              "RN     149624\n",
              "MS     131648\n",
              "MT     131557\n",
              "PI     129539\n",
              "SE     103052\n",
              "AM      94526\n",
              "DF      82480\n",
              "RO      64802\n",
              "TO      48449\n",
              "AC      26925\n",
              "AP      18754\n",
              "RR      14494\n",
              "Name: sigla_uf, dtype: int64"
            ]
          },
          "metadata": {},
          "execution_count": 11
        }
      ]
    },
    {
      "cell_type": "code",
      "source": [
        "df[['numero_obitos', 'sigla_uf']].groupby('sigla_uf').sum().sort_values('numero_obitos', ascending=False)"
      ],
      "metadata": {
        "colab": {
          "base_uri": "https://localhost:8080/",
          "height": 927
        },
        "id": "HUtkx5drynXZ",
        "outputId": "97c1c2a1-18b1-4e9e-d7d4-189980c2a5db"
      },
      "execution_count": 12,
      "outputs": [
        {
          "output_type": "execute_result",
          "data": {
            "text/plain": [
              "          numero_obitos\n",
              "sigla_uf               \n",
              "SP            2846460.0\n",
              "RJ            1385343.0\n",
              "MG            1226135.0\n",
              "RS             835886.0\n",
              "BA             733651.0\n",
              "PR             684686.0\n",
              "PE             621659.0\n",
              "CE             438751.0\n",
              "SC             348302.0\n",
              "GO             300009.0\n",
              "PA             277297.0\n",
              "PB             229183.0\n",
              "MA             228109.0\n",
              "ES             215420.0\n",
              "AL             182846.0\n",
              "RN             160591.0\n",
              "MS             141624.0\n",
              "PI             139823.0\n",
              "MT             137486.0\n",
              "AM             122064.0\n",
              "SE             113509.0\n",
              "DF             107479.0\n",
              "RO              68467.0\n",
              "TO              50056.0\n",
              "AC              30159.0\n",
              "AP              21403.0\n",
              "RR              15293.0"
            ],
            "text/html": [
              "\n",
              "  <div id=\"df-a8fc7ed0-21f5-40e4-a9a7-909cb41b952d\">\n",
              "    <div class=\"colab-df-container\">\n",
              "      <div>\n",
              "<style scoped>\n",
              "    .dataframe tbody tr th:only-of-type {\n",
              "        vertical-align: middle;\n",
              "    }\n",
              "\n",
              "    .dataframe tbody tr th {\n",
              "        vertical-align: top;\n",
              "    }\n",
              "\n",
              "    .dataframe thead th {\n",
              "        text-align: right;\n",
              "    }\n",
              "</style>\n",
              "<table border=\"1\" class=\"dataframe\">\n",
              "  <thead>\n",
              "    <tr style=\"text-align: right;\">\n",
              "      <th></th>\n",
              "      <th>numero_obitos</th>\n",
              "    </tr>\n",
              "    <tr>\n",
              "      <th>sigla_uf</th>\n",
              "      <th></th>\n",
              "    </tr>\n",
              "  </thead>\n",
              "  <tbody>\n",
              "    <tr>\n",
              "      <th>SP</th>\n",
              "      <td>2846460.0</td>\n",
              "    </tr>\n",
              "    <tr>\n",
              "      <th>RJ</th>\n",
              "      <td>1385343.0</td>\n",
              "    </tr>\n",
              "    <tr>\n",
              "      <th>MG</th>\n",
              "      <td>1226135.0</td>\n",
              "    </tr>\n",
              "    <tr>\n",
              "      <th>RS</th>\n",
              "      <td>835886.0</td>\n",
              "    </tr>\n",
              "    <tr>\n",
              "      <th>BA</th>\n",
              "      <td>733651.0</td>\n",
              "    </tr>\n",
              "    <tr>\n",
              "      <th>PR</th>\n",
              "      <td>684686.0</td>\n",
              "    </tr>\n",
              "    <tr>\n",
              "      <th>PE</th>\n",
              "      <td>621659.0</td>\n",
              "    </tr>\n",
              "    <tr>\n",
              "      <th>CE</th>\n",
              "      <td>438751.0</td>\n",
              "    </tr>\n",
              "    <tr>\n",
              "      <th>SC</th>\n",
              "      <td>348302.0</td>\n",
              "    </tr>\n",
              "    <tr>\n",
              "      <th>GO</th>\n",
              "      <td>300009.0</td>\n",
              "    </tr>\n",
              "    <tr>\n",
              "      <th>PA</th>\n",
              "      <td>277297.0</td>\n",
              "    </tr>\n",
              "    <tr>\n",
              "      <th>PB</th>\n",
              "      <td>229183.0</td>\n",
              "    </tr>\n",
              "    <tr>\n",
              "      <th>MA</th>\n",
              "      <td>228109.0</td>\n",
              "    </tr>\n",
              "    <tr>\n",
              "      <th>ES</th>\n",
              "      <td>215420.0</td>\n",
              "    </tr>\n",
              "    <tr>\n",
              "      <th>AL</th>\n",
              "      <td>182846.0</td>\n",
              "    </tr>\n",
              "    <tr>\n",
              "      <th>RN</th>\n",
              "      <td>160591.0</td>\n",
              "    </tr>\n",
              "    <tr>\n",
              "      <th>MS</th>\n",
              "      <td>141624.0</td>\n",
              "    </tr>\n",
              "    <tr>\n",
              "      <th>PI</th>\n",
              "      <td>139823.0</td>\n",
              "    </tr>\n",
              "    <tr>\n",
              "      <th>MT</th>\n",
              "      <td>137486.0</td>\n",
              "    </tr>\n",
              "    <tr>\n",
              "      <th>AM</th>\n",
              "      <td>122064.0</td>\n",
              "    </tr>\n",
              "    <tr>\n",
              "      <th>SE</th>\n",
              "      <td>113509.0</td>\n",
              "    </tr>\n",
              "    <tr>\n",
              "      <th>DF</th>\n",
              "      <td>107479.0</td>\n",
              "    </tr>\n",
              "    <tr>\n",
              "      <th>RO</th>\n",
              "      <td>68467.0</td>\n",
              "    </tr>\n",
              "    <tr>\n",
              "      <th>TO</th>\n",
              "      <td>50056.0</td>\n",
              "    </tr>\n",
              "    <tr>\n",
              "      <th>AC</th>\n",
              "      <td>30159.0</td>\n",
              "    </tr>\n",
              "    <tr>\n",
              "      <th>AP</th>\n",
              "      <td>21403.0</td>\n",
              "    </tr>\n",
              "    <tr>\n",
              "      <th>RR</th>\n",
              "      <td>15293.0</td>\n",
              "    </tr>\n",
              "  </tbody>\n",
              "</table>\n",
              "</div>\n",
              "      <button class=\"colab-df-convert\" onclick=\"convertToInteractive('df-a8fc7ed0-21f5-40e4-a9a7-909cb41b952d')\"\n",
              "              title=\"Convert this dataframe to an interactive table.\"\n",
              "              style=\"display:none;\">\n",
              "        \n",
              "  <svg xmlns=\"http://www.w3.org/2000/svg\" height=\"24px\"viewBox=\"0 0 24 24\"\n",
              "       width=\"24px\">\n",
              "    <path d=\"M0 0h24v24H0V0z\" fill=\"none\"/>\n",
              "    <path d=\"M18.56 5.44l.94 2.06.94-2.06 2.06-.94-2.06-.94-.94-2.06-.94 2.06-2.06.94zm-11 1L8.5 8.5l.94-2.06 2.06-.94-2.06-.94L8.5 2.5l-.94 2.06-2.06.94zm10 10l.94 2.06.94-2.06 2.06-.94-2.06-.94-.94-2.06-.94 2.06-2.06.94z\"/><path d=\"M17.41 7.96l-1.37-1.37c-.4-.4-.92-.59-1.43-.59-.52 0-1.04.2-1.43.59L10.3 9.45l-7.72 7.72c-.78.78-.78 2.05 0 2.83L4 21.41c.39.39.9.59 1.41.59.51 0 1.02-.2 1.41-.59l7.78-7.78 2.81-2.81c.8-.78.8-2.07 0-2.86zM5.41 20L4 18.59l7.72-7.72 1.47 1.35L5.41 20z\"/>\n",
              "  </svg>\n",
              "      </button>\n",
              "      \n",
              "  <style>\n",
              "    .colab-df-container {\n",
              "      display:flex;\n",
              "      flex-wrap:wrap;\n",
              "      gap: 12px;\n",
              "    }\n",
              "\n",
              "    .colab-df-convert {\n",
              "      background-color: #E8F0FE;\n",
              "      border: none;\n",
              "      border-radius: 50%;\n",
              "      cursor: pointer;\n",
              "      display: none;\n",
              "      fill: #1967D2;\n",
              "      height: 32px;\n",
              "      padding: 0 0 0 0;\n",
              "      width: 32px;\n",
              "    }\n",
              "\n",
              "    .colab-df-convert:hover {\n",
              "      background-color: #E2EBFA;\n",
              "      box-shadow: 0px 1px 2px rgba(60, 64, 67, 0.3), 0px 1px 3px 1px rgba(60, 64, 67, 0.15);\n",
              "      fill: #174EA6;\n",
              "    }\n",
              "\n",
              "    [theme=dark] .colab-df-convert {\n",
              "      background-color: #3B4455;\n",
              "      fill: #D2E3FC;\n",
              "    }\n",
              "\n",
              "    [theme=dark] .colab-df-convert:hover {\n",
              "      background-color: #434B5C;\n",
              "      box-shadow: 0px 1px 3px 1px rgba(0, 0, 0, 0.15);\n",
              "      filter: drop-shadow(0px 1px 2px rgba(0, 0, 0, 0.3));\n",
              "      fill: #FFFFFF;\n",
              "    }\n",
              "  </style>\n",
              "\n",
              "      <script>\n",
              "        const buttonEl =\n",
              "          document.querySelector('#df-a8fc7ed0-21f5-40e4-a9a7-909cb41b952d button.colab-df-convert');\n",
              "        buttonEl.style.display =\n",
              "          google.colab.kernel.accessAllowed ? 'block' : 'none';\n",
              "\n",
              "        async function convertToInteractive(key) {\n",
              "          const element = document.querySelector('#df-a8fc7ed0-21f5-40e4-a9a7-909cb41b952d');\n",
              "          const dataTable =\n",
              "            await google.colab.kernel.invokeFunction('convertToInteractive',\n",
              "                                                     [key], {});\n",
              "          if (!dataTable) return;\n",
              "\n",
              "          const docLinkHtml = 'Like what you see? Visit the ' +\n",
              "            '<a target=\"_blank\" href=https://colab.research.google.com/notebooks/data_table.ipynb>data table notebook</a>'\n",
              "            + ' to learn more about interactive tables.';\n",
              "          element.innerHTML = '';\n",
              "          dataTable['output_type'] = 'display_data';\n",
              "          await google.colab.output.renderOutput(dataTable, element);\n",
              "          const docLink = document.createElement('div');\n",
              "          docLink.innerHTML = docLinkHtml;\n",
              "          element.appendChild(docLink);\n",
              "        }\n",
              "      </script>\n",
              "    </div>\n",
              "  </div>\n",
              "  "
            ]
          },
          "metadata": {},
          "execution_count": 12
        }
      ]
    },
    {
      "cell_type": "code",
      "source": [
        "state2abbr = {\n",
        "    'AC': 'BR.AC', 'AL': 'BR.AL', 'AP': 'BR.AP',\n",
        "    'AM': 'BR.AM', 'BA': 'BR.BA', 'CE': 'BR.CE',\n",
        "    'DF': 'BR.DF', 'ES': 'BR.ES',\n",
        "    'GO': 'BR.GO', 'MA': 'BR.MA', 'MT': 'BR.MT',\n",
        "    'MS': 'BR.MS', 'MG': 'BR.MG',\n",
        "    'PA': 'BR.PA', 'PB': 'BR.PB', 'PR': 'BR.PR',\n",
        "    'PE': 'BR.PE', 'PI': 'BR.PI', 'RJ': 'BR.RJ',\n",
        "    'RN': 'BR.RN', 'RS': 'BR.RS',\n",
        "    'RO': 'BR.RO', 'RR': 'BR.RR', 'SC': 'BR.SC',\n",
        "    'SP': 'BR.SP', 'SE': 'BR.SE', 'TO': 'BR.TO',\n",
        "}"
      ],
      "metadata": {
        "id": "Dp2TL4phIQpn"
      },
      "execution_count": 13,
      "outputs": []
    },
    {
      "cell_type": "code",
      "source": [
        "def visualize_text(df, text):\n",
        "    text_df = df.query(f'causa_basica == \"{text}\"') # filtra o nome escolhido\n",
        "    text_df = text_df.groupby('sigla_uf', as_index=False).sum() # agrupa pelos estados\n",
        "    text_df.sigla_uf = text_df.sigla_uf.apply(lambda x: state2abbr[x]) # abrevia os estados\n",
        "    text_df = text_df.rename(columns={'sigla_uf': 'HASC_1'}) # renomeia a coluna\n",
        "\n",
        "    fig, ax = plt.subplots(1, 1)\n",
        "    br_map = gpd.read_file('gadm36_BRA_1.shp') # lê o mapa\n",
        "    br_map = br_map.merge(text_df, on='HASC_1', how='outer') # une o mapa com os dados\n",
        "    br_map.plot(column='freq_per_100k', ax=ax, legend=True) # desenha o gráfico\n",
        "\n",
        "visualize_text(df, 'R99')"
      ],
      "metadata": {
        "id": "IL6ftki45gMK",
        "colab": {
          "base_uri": "https://localhost:8080/",
          "height": 265
        },
        "outputId": "13c54bfc-f5ee-4cb8-ef01-fbede19fe73e"
      },
      "execution_count": 14,
      "outputs": [
        {
          "output_type": "display_data",
          "data": {
            "text/plain": [
              "<Figure size 432x288 with 2 Axes>"
            ],
            "image/png": "[encoded data removed]"
          },
          "metadata": {
            "needs_background": "light"
          }
        }
      ]
    },
    {
      "cell_type": "code",
      "source": [
        "df.head()"
      ],
      "metadata": {
        "id": "M7dkrEPPJFtT",
        "colab": {
          "base_uri": "https://localhost:8080/",
          "height": 206
        },
        "outputId": "7c5bd32b-255f-4224-ea58-27f5d18dca52"
      },
      "execution_count": 15,
      "outputs": [
        {
          "output_type": "execute_result",
          "data": {
            "text/plain": [
              "    ano sigla_uf  id_municipio causa_basica  idade  sexo  raca_cor  \\\n",
              "0  1996       AC       1200000          R99    NaN   1.0       NaN   \n",
              "1  1996       AC       1200000         V892   25.0   1.0       NaN   \n",
              "2  1996       AC       1200000         X959    NaN   1.0       3.0   \n",
              "3  1996       AC       1200000         X959    NaN   1.0       NaN   \n",
              "4  1996       AC       1200013         A419   71.0   2.0       NaN   \n",
              "\n",
              "   numero_obitos  numero_obitos_total_by_state  freq_per_100k  \n",
              "0            1.0                       30159.0        3.31576  \n",
              "1            1.0                       30159.0        3.31576  \n",
              "2            1.0                       30159.0        3.31576  \n",
              "3            1.0                       30159.0        3.31576  \n",
              "4            1.0                       30159.0        3.31576  "
            ],
            "text/html": [
              "\n",
              "  <div id=\"df-44e892c4-d21f-44c8-be1d-fecddf644e06\">\n",
              "    <div class=\"colab-df-container\">\n",
              "      <div>\n",
              "<style scoped>\n",
              "    .dataframe tbody tr th:only-of-type {\n",
              "        vertical-align: middle;\n",
              "    }\n",
              "\n",
              "    .dataframe tbody tr th {\n",
              "        vertical-align: top;\n",
              "    }\n",
              "\n",
              "    .dataframe thead th {\n",
              "        text-align: right;\n",
              "    }\n",
              "</style>\n",
              "<table border=\"1\" class=\"dataframe\">\n",
              "  <thead>\n",
              "    <tr style=\"text-align: right;\">\n",
              "      <th></th>\n",
              "      <th>ano</th>\n",
              "      <th>sigla_uf</th>\n",
              "      <th>id_municipio</th>\n",
              "      <th>causa_basica</th>\n",
              "      <th>idade</th>\n",
              "      <th>sexo</th>\n",
              "      <th>raca_cor</th>\n",
              "      <th>numero_obitos</th>\n",
              "      <th>numero_obitos_total_by_state</th>\n",
              "      <th>freq_per_100k</th>\n",
              "    </tr>\n",
              "  </thead>\n",
              "  <tbody>\n",
              "    <tr>\n",
              "      <th>0</th>\n",
              "      <td>1996</td>\n",
              "      <td>AC</td>\n",
              "      <td>1200000</td>\n",
              "      <td>R99</td>\n",
              "      <td>NaN</td>\n",
              "      <td>1.0</td>\n",
              "      <td>NaN</td>\n",
              "      <td>1.0</td>\n",
              "      <td>30159.0</td>\n",
              "      <td>3.31576</td>\n",
              "    </tr>\n",
              "    <tr>\n",
              "      <th>1</th>\n",
              "      <td>1996</td>\n",
              "      <td>AC</td>\n",
              "      <td>1200000</td>\n",
              "      <td>V892</td>\n",
              "      <td>25.0</td>\n",
              "      <td>1.0</td>\n",
              "      <td>NaN</td>\n",
              "      <td>1.0</td>\n",
              "      <td>30159.0</td>\n",
              "      <td>3.31576</td>\n",
              "    </tr>\n",
              "    <tr>\n",
              "      <th>2</th>\n",
              "      <td>1996</td>\n",
              "      <td>AC</td>\n",
              "      <td>1200000</td>\n",
              "      <td>X959</td>\n",
              "      <td>NaN</td>\n",
              "      <td>1.0</td>\n",
              "      <td>3.0</td>\n",
              "      <td>1.0</td>\n",
              "      <td>30159.0</td>\n",
              "      <td>3.31576</td>\n",
              "    </tr>\n",
              "    <tr>\n",
              "      <th>3</th>\n",
              "      <td>1996</td>\n",
              "      <td>AC</td>\n",
              "      <td>1200000</td>\n",
              "      <td>X959</td>\n",
              "      <td>NaN</td>\n",
              "      <td>1.0</td>\n",
              "      <td>NaN</td>\n",
              "      <td>1.0</td>\n",
              "      <td>30159.0</td>\n",
              "      <td>3.31576</td>\n",
              "    </tr>\n",
              "    <tr>\n",
              "      <th>4</th>\n",
              "      <td>1996</td>\n",
              "      <td>AC</td>\n",
              "      <td>1200013</td>\n",
              "      <td>A419</td>\n",
              "      <td>71.0</td>\n",
              "      <td>2.0</td>\n",
              "      <td>NaN</td>\n",
              "      <td>1.0</td>\n",
              "      <td>30159.0</td>\n",
              "      <td>3.31576</td>\n",
              "    </tr>\n",
              "  </tbody>\n",
              "</table>\n",
              "</div>\n",
              "      <button class=\"colab-df-convert\" onclick=\"convertToInteractive('df-44e892c4-d21f-44c8-be1d-fecddf644e06')\"\n",
              "              title=\"Convert this dataframe to an interactive table.\"\n",
              "              style=\"display:none;\">\n",
              "        \n",
              "  <svg xmlns=\"http://www.w3.org/2000/svg\" height=\"24px\"viewBox=\"0 0 24 24\"\n",
              "       width=\"24px\">\n",
              "    <path d=\"M0 0h24v24H0V0z\" fill=\"none\"/>\n",
              "    <path d=\"M18.56 5.44l.94 2.06.94-2.06 2.06-.94-2.06-.94-.94-2.06-.94 2.06-2.06.94zm-11 1L8.5 8.5l.94-2.06 2.06-.94-2.06-.94L8.5 2.5l-.94 2.06-2.06.94zm10 10l.94 2.06.94-2.06 2.06-.94-2.06-.94-.94-2.06-.94 2.06-2.06.94z\"/><path d=\"M17.41 7.96l-1.37-1.37c-.4-.4-.92-.59-1.43-.59-.52 0-1.04.2-1.43.59L10.3 9.45l-7.72 7.72c-.78.78-.78 2.05 0 2.83L4 21.41c.39.39.9.59 1.41.59.51 0 1.02-.2 1.41-.59l7.78-7.78 2.81-2.81c.8-.78.8-2.07 0-2.86zM5.41 20L4 18.59l7.72-7.72 1.47 1.35L5.41 20z\"/>\n",
              "  </svg>\n",
              "      </button>\n",
              "      \n",
              "  <style>\n",
              "    .colab-df-container {\n",
              "      display:flex;\n",
              "      flex-wrap:wrap;\n",
              "      gap: 12px;\n",
              "    }\n",
              "\n",
              "    .colab-df-convert {\n",
              "      background-color: #E8F0FE;\n",
              "      border: none;\n",
              "      border-radius: 50%;\n",
              "      cursor: pointer;\n",
              "      display: none;\n",
              "      fill: #1967D2;\n",
              "      height: 32px;\n",
              "      padding: 0 0 0 0;\n",
              "      width: 32px;\n",
              "    }\n",
              "\n",
              "    .colab-df-convert:hover {\n",
              "      background-color: #E2EBFA;\n",
              "      box-shadow: 0px 1px 2px rgba(60, 64, 67, 0.3), 0px 1px 3px 1px rgba(60, 64, 67, 0.15);\n",
              "      fill: #174EA6;\n",
              "    }\n",
              "\n",
              "    [theme=dark] .colab-df-convert {\n",
              "      background-color: #3B4455;\n",
              "      fill: #D2E3FC;\n",
              "    }\n",
              "\n",
              "    [theme=dark] .colab-df-convert:hover {\n",
              "      background-color: #434B5C;\n",
              "      box-shadow: 0px 1px 3px 1px rgba(0, 0, 0, 0.15);\n",
              "      filter: drop-shadow(0px 1px 2px rgba(0, 0, 0, 0.3));\n",
              "      fill: #FFFFFF;\n",
              "    }\n",
              "  </style>\n",
              "\n",
              "      <script>\n",
              "        const buttonEl =\n",
              "          document.querySelector('#df-44e892c4-d21f-44c8-be1d-fecddf644e06 button.colab-df-convert');\n",
              "        buttonEl.style.display =\n",
              "          google.colab.kernel.accessAllowed ? 'block' : 'none';\n",
              "\n",
              "        async function convertToInteractive(key) {\n",
              "          const element = document.querySelector('#df-44e892c4-d21f-44c8-be1d-fecddf644e06');\n",
              "          const dataTable =\n",
              "            await google.colab.kernel.invokeFunction('convertToInteractive',\n",
              "                                                     [key], {});\n",
              "          if (!dataTable) return;\n",
              "\n",
              "          const docLinkHtml = 'Like what you see? Visit the ' +\n",
              "            '<a target=\"_blank\" href=https://colab.research.google.com/notebooks/data_table.ipynb>data table notebook</a>'\n",
              "            + ' to learn more about interactive tables.';\n",
              "          element.innerHTML = '';\n",
              "          dataTable['output_type'] = 'display_data';\n",
              "          await google.colab.output.renderOutput(dataTable, element);\n",
              "          const docLink = document.createElement('div');\n",
              "          docLink.innerHTML = docLinkHtml;\n",
              "          element.appendChild(docLink);\n",
              "        }\n",
              "      </script>\n",
              "    </div>\n",
              "  </div>\n",
              "  "
            ]
          },
          "metadata": {},
          "execution_count": 15
        }
      ]
    },
    {
      "cell_type": "code",
      "source": [
        "df.groupby('causa_basica').numero_obitos.sum().sort_values(ascending=False).head(10)"
      ],
      "metadata": {
        "colab": {
          "base_uri": "https://localhost:8080/"
        },
        "id": "sdomXaj51O3f",
        "outputId": "c62deb41-6c3c-45cd-db58-b569f96cda7a"
      },
      "execution_count": 19,
      "outputs": [
        {
          "output_type": "execute_result",
          "data": {
            "text/plain": [
              "causa_basica\n",
              "R98     818175.0\n",
              "I219    734806.0\n",
              "I64     536182.0\n",
              "R99     450439.0\n",
              "J449    273823.0\n",
              "E149    231031.0\n",
              "J189    207005.0\n",
              "C349    185659.0\n",
              "I500    181585.0\n",
              "X959    173941.0\n",
              "Name: numero_obitos, dtype: float64"
            ]
          },
          "metadata": {},
          "execution_count": 19
        }
      ]
    },
    {
      "cell_type": "code",
      "source": [
        "df.groupby(['sigla_uf', 'causa_basica']).numero_obitos.sum().sort_values(ascending=False).head(10)"
      ],
      "metadata": {
        "colab": {
          "base_uri": "https://localhost:8080/"
        },
        "id": "kW75pSOv1oUY",
        "outputId": "42096211-5a8c-4226-c321-5c73dc3c6bf5"
      },
      "execution_count": 21,
      "outputs": [
        {
          "output_type": "execute_result",
          "data": {
            "text/plain": [
              "sigla_uf  causa_basica\n",
              "SP        I219            210998.0\n",
              "BA        R98             140885.0\n",
              "RJ        R99             118945.0\n",
              "          I219            101696.0\n",
              "SP        I64              99387.0\n",
              "          R99              91494.0\n",
              "          J180             87987.0\n",
              "PE        R98              86871.0\n",
              "RJ        I64              74756.0\n",
              "MG        R98              71968.0\n",
              "Name: numero_obitos, dtype: float64"
            ]
          },
          "metadata": {},
          "execution_count": 21
        }
      ]
    },
    {
      "cell_type": "code",
      "source": [
        "plt.figure(figsize=(12,9))\n",
        "sns.set_palette('pastel')\n",
        "sns.countplot(x='raca_cor',data=df)\n",
        "plt.title('Death and survival values by sex')\n",
        "plt.show()"
      ],
      "metadata": {
        "colab": {
          "base_uri": "https://localhost:8080/",
          "height": 567
        },
        "id": "SIMHyboi2NK1",
        "outputId": "53f6eb68-20d9-4b3d-b08d-5d0090d2c0ef"
      },
      "execution_count": 22,
      "outputs": [
        {
          "output_type": "display_data",
          "data": {
            "text/plain": [
              "<Figure size 864x648 with 1 Axes>"
            ],
            "image/png": "[encoded data removed]"
          },
          "metadata": {
            "needs_background": "light"
          }
        }
      ]
    },
    {
      "cell_type": "code",
      "source": [
        "teste = df.groupby(['raca_cor']).sum()['numero_obitos'].reset_index()"
      ],
      "metadata": {
        "id": "hLpT5w9_9Rbt"
      },
      "execution_count": 34,
      "outputs": []
    },
    {
      "cell_type": "code",
      "source": [
        "plt.figure(figsize=(12, 8))\n",
        "sns.barplot(x=teste.raca_cor, y=teste.numero_obitos)\n",
        "plt.title('Number of status')\n",
        "plt.xlabel('raca_cor')\n",
        "plt.ylabel('numero_obitos')\n",
        "plt.xticks(rotation=90)\n",
        "plt.show()"
      ],
      "metadata": {
        "colab": {
          "base_uri": "https://localhost:8080/",
          "height": 519
        },
        "id": "0IYl1x1b3qZb",
        "outputId": "e9575000-1c56-46a7-ecbe-a3fca99a0fc2"
      },
      "execution_count": 35,
      "outputs": [
        {
          "output_type": "display_data",
          "data": {
            "text/plain": [
              "<Figure size 864x576 with 1 Axes>"
            ],
            "image/png": "[encoded data removed]"
          },
          "metadata": {
            "needs_background": "light"
          }
        }
      ]
    },
    {
      "cell_type": "code",
      "source": [
        ""
      ],
      "metadata": {
        "id": "LLD3KHOV4HgC"
      },
      "execution_count": null,
      "outputs": []
    }
  ]
}